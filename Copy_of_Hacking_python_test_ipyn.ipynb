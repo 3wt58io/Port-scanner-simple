{
  "nbformat": 4,
  "nbformat_minor": 0,
  "metadata": {
    "colab": {
      "provenance": [],
      "authorship_tag": "ABX9TyMUUKKsRQHV/KBXIxIImhWG",
      "include_colab_link": true
    },
    "kernelspec": {
      "name": "python3",
      "display_name": "Python 3"
    },
    "language_info": {
      "name": "python"
    }
  },
  "cells": [
    {
      "cell_type": "markdown",
      "metadata": {
        "id": "view-in-github",
        "colab_type": "text"
      },
      "source": [
        "<a href=\"https://colab.research.google.com/github/3wt58io/Port-scanner-simple/blob/main/Copy_of_Hacking_python_test_ipyn.ipynb\" target=\"_parent\"><img src=\"https://colab.research.google.com/assets/colab-badge.svg\" alt=\"Open In Colab\"/></a>"
      ]
    },
    {
      "cell_type": "code",
      "source": [
        "!pip install art"
      ],
      "metadata": {
        "id": "wDEdv-tQ6byL",
        "colab": {
          "base_uri": "https://localhost:8080/"
        },
        "outputId": "e6e8de46-f65f-4955-96cc-7abaea62eea3"
      },
      "execution_count": null,
      "outputs": [
        {
          "output_type": "stream",
          "name": "stdout",
          "text": [
            "Collecting art\n",
            "  Downloading art-6.2-py3-none-any.whl (601 kB)\n",
            "\u001b[2K     \u001b[90m━━━━━━━━━━━━━━━━━━━━━━━━━━━━━━━━━━━━━━━━\u001b[0m \u001b[32m601.8/601.8 kB\u001b[0m \u001b[31m3.1 MB/s\u001b[0m eta \u001b[36m0:00:00\u001b[0m\n",
            "\u001b[?25hInstalling collected packages: art\n",
            "Successfully installed art-6.2\n"
          ]
        }
      ]
    },
    {
      "cell_type": "code",
      "source": [
        "import socket\n",
        "from art import *\n",
        "import signal\n",
        "def handler(signum, frame):\n",
        "  raise TimeoutError(\"ranout of time\")\n",
        "signal.signal(signal.SIGALRM, handler)\n",
        "signal.alarm(2)\n",
        "# Generate ASCII art text\n",
        "maintext= text2art(\"Port scanner\")\n",
        "print(maintext)\n",
        "print(\"***************************\")\n",
        "print(\"Made by Sai\")\n",
        "print(\"****************************\")\n",
        "s = socket.socket(socket.AF_INET, socket.SOCK_STREAM)\n",
        "host = input(\"Enter host here:  \")\n",
        "start_port = int(input(\"Enter starting port: \"))\n",
        "end_port = int(input(\"Enter ending port: \"))\n",
        "port = 0\n",
        "def portscanner(port):\n",
        "  try:\n",
        "   if s.connect_ex((host, port)):\n",
        "     print(f\"Port is closed port number: {port}\")\n",
        "   else:\n",
        "     print(f\"Port is open port number: {port}\")\n",
        "  except TimeoutError:\n",
        "    print(\"couldnt scan port in time!\")\n",
        "for port in range(start_port, end_port + 1):\n",
        "  signal.alarm(5)\n",
        "  portscanner(port)\n",
        "s.close()\n"
      ],
      "metadata": {
        "id": "5VsY1zNd40qt"
      },
      "execution_count": null,
      "outputs": []
    }
  ]
}